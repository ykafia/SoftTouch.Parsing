{
 "cells": [
  {
   "cell_type": "code",
   "execution_count": 1,
   "metadata": {
    "dotnet_interactive": {
     "language": "csharp"
    },
    "polyglot_notebook": {
     "kernelName": "csharp"
    },
    "vscode": {
     "languageId": "polyglot-notebook"
    }
   },
   "outputs": [
    {
     "name": "stdout",
     "output_type": "stream",
     "text": [
      "  Determining projects to restore...\n",
      "  All projects are up-to-date for restore.\n",
      "C:\\Users\\youness_kafia\\Documents\\dotnetProjs\\SoftTouch.Parsing\\src\\SoftTouch.Parsing.Core\\SDSL\\Parsers\\StatementParsers\\StatementParsers.cs(218,47): error CS1525: Invalid expression term ')' [C:\\Users\\youness_kafia\\Documents\\dotnetProjs\\SoftTouch.Parsing\\src\\SoftTouch.Parsing.Core\\SoftTouch.Parsing.Core.csproj]\n",
      "C:\\Users\\youness_kafia\\Documents\\dotnetProjs\\SoftTouch.Parsing\\src\\SoftTouch.Parsing.Core\\SDSL\\Parsers\\StatementParsers\\StatementParsers.cs(218,49): error CS8641: 'else' cannot start a statement. [C:\\Users\\youness_kafia\\Documents\\dotnetProjs\\SoftTouch.Parsing\\src\\SoftTouch.Parsing.Core\\SoftTouch.Parsing.Core.csproj]\n",
      "C:\\Users\\youness_kafia\\Documents\\dotnetProjs\\SoftTouch.Parsing\\src\\SoftTouch.Parsing.Core\\SDSL\\Parsers\\StatementParsers\\StatementParsers.cs(218,49): error CS1003: Syntax error, '(' expected [C:\\Users\\youness_kafia\\Documents\\dotnetProjs\\SoftTouch.Parsing\\src\\SoftTouch.Parsing.Core\\SoftTouch.Parsing.Core.csproj]\n",
      "C:\\Users\\youness_kafia\\Documents\\dotnetProjs\\SoftTouch.Parsing\\src\\SoftTouch.Parsing.Core\\SDSL\\Parsers\\StatementParsers\\StatementParsers.cs(218,49): error CS1525: Invalid expression term 'else' [C:\\Users\\youness_kafia\\Documents\\dotnetProjs\\SoftTouch.Parsing\\src\\SoftTouch.Parsing.Core\\SoftTouch.Parsing.Core.csproj]\n",
      "C:\\Users\\youness_kafia\\Documents\\dotnetProjs\\SoftTouch.Parsing\\src\\SoftTouch.Parsing.Core\\SDSL\\Parsers\\StatementParsers\\StatementParsers.cs(218,49): error CS1026: ) expected [C:\\Users\\youness_kafia\\Documents\\dotnetProjs\\SoftTouch.Parsing\\src\\SoftTouch.Parsing.Core\\SoftTouch.Parsing.Core.csproj]\n",
      "C:\\Users\\youness_kafia\\Documents\\dotnetProjs\\SoftTouch.Parsing\\src\\SoftTouch.Parsing.Core\\SDSL\\Parsers\\StatementParsers\\StatementParsers.cs(218,49): error CS1002: ; expected [C:\\Users\\youness_kafia\\Documents\\dotnetProjs\\SoftTouch.Parsing\\src\\SoftTouch.Parsing.Core\\SoftTouch.Parsing.Core.csproj]\n",
      "\n",
      "Build FAILED.\n",
      "\n",
      "C:\\Users\\youness_kafia\\Documents\\dotnetProjs\\SoftTouch.Parsing\\src\\SoftTouch.Parsing.Core\\SDSL\\Parsers\\StatementParsers\\StatementParsers.cs(218,47): error CS1525: Invalid expression term ')' [C:\\Users\\youness_kafia\\Documents\\dotnetProjs\\SoftTouch.Parsing\\src\\SoftTouch.Parsing.Core\\SoftTouch.Parsing.Core.csproj]\n",
      "C:\\Users\\youness_kafia\\Documents\\dotnetProjs\\SoftTouch.Parsing\\src\\SoftTouch.Parsing.Core\\SDSL\\Parsers\\StatementParsers\\StatementParsers.cs(218,49): error CS8641: 'else' cannot start a statement. [C:\\Users\\youness_kafia\\Documents\\dotnetProjs\\SoftTouch.Parsing\\src\\SoftTouch.Parsing.Core\\SoftTouch.Parsing.Core.csproj]\n",
      "C:\\Users\\youness_kafia\\Documents\\dotnetProjs\\SoftTouch.Parsing\\src\\SoftTouch.Parsing.Core\\SDSL\\Parsers\\StatementParsers\\StatementParsers.cs(218,49): error CS1003: Syntax error, '(' expected [C:\\Users\\youness_kafia\\Documents\\dotnetProjs\\SoftTouch.Parsing\\src\\SoftTouch.Parsing.Core\\SoftTouch.Parsing.Core.csproj]\n",
      "C:\\Users\\youness_kafia\\Documents\\dotnetProjs\\SoftTouch.Parsing\\src\\SoftTouch.Parsing.Core\\SDSL\\Parsers\\StatementParsers\\StatementParsers.cs(218,49): error CS1525: Invalid expression term 'else' [C:\\Users\\youness_kafia\\Documents\\dotnetProjs\\SoftTouch.Parsing\\src\\SoftTouch.Parsing.Core\\SoftTouch.Parsing.Core.csproj]\n",
      "C:\\Users\\youness_kafia\\Documents\\dotnetProjs\\SoftTouch.Parsing\\src\\SoftTouch.Parsing.Core\\SDSL\\Parsers\\StatementParsers\\StatementParsers.cs(218,49): error CS1026: ) expected [C:\\Users\\youness_kafia\\Documents\\dotnetProjs\\SoftTouch.Parsing\\src\\SoftTouch.Parsing.Core\\SoftTouch.Parsing.Core.csproj]\n",
      "C:\\Users\\youness_kafia\\Documents\\dotnetProjs\\SoftTouch.Parsing\\src\\SoftTouch.Parsing.Core\\SDSL\\Parsers\\StatementParsers\\StatementParsers.cs(218,49): error CS1002: ; expected [C:\\Users\\youness_kafia\\Documents\\dotnetProjs\\SoftTouch.Parsing\\src\\SoftTouch.Parsing.Core\\SoftTouch.Parsing.Core.csproj]\n",
      "    0 Warning(s)\n",
      "    6 Error(s)\n",
      "\n",
      "Time Elapsed 00:00:04.73\n"
     ]
    },
    {
     "ename": "Error",
     "evalue": "Command failed: SubmitCode: #!pwsh ...",
     "output_type": "error",
     "traceback": [
      "Command failed: SubmitCode: #!pwsh ..."
     ]
    }
   ],
   "source": [
    "#!pwsh\n",
    "dotnet build ./SoftTouch.Parsing.Experiments.csproj\n",
    "\n",
    "#!csharp\n",
    "#r \".\\bin\\Debug\\net8.0\\SoftTouch.Parsing.Core.dll\"\n",
    "using SoftTouch.Parsing.SDSL;\n",
    "using System.IO;"
   ]
  },
  {
   "cell_type": "code",
   "execution_count": 2,
   "metadata": {
    "dotnet_interactive": {
     "language": "csharp"
    },
    "polyglot_notebook": {
     "kernelName": "csharp"
    },
    "vscode": {
     "languageId": "polyglot-notebook"
    }
   },
   "outputs": [
    {
     "ename": "Error",
     "evalue": "(4,12): error CS0103: The name 'File' does not exist in the current context\r\n(5,14): error CS0103: The name 'SDSLParser' does not exist in the current context\r\n(3,1): error CS0103: The name 'Directory' does not exist in the current context",
     "output_type": "error",
     "traceback": [
      "(4,12): error CS0103: The name 'File' does not exist in the current context\r\n",
      "(5,14): error CS0103: The name 'SDSLParser' does not exist in the current context\r\n",
      "(3,1): error CS0103: The name 'Directory' does not exist in the current context"
     ]
    }
   ],
   "source": [
    "var path = @\"C:\\Users\\youness_kafia\\Documents\\dotnetProjs\\SoftTouch.Parsing\\assets\";\n",
    "// var path = @\"C:\\Users\\kafia\\source\\repos\\ykafia\\SoftTouch.Parsing\\assets\";\n",
    "Directory.SetCurrentDirectory(path);\n",
    "var file = File.ReadAllText(\"./SDSL/Commented.sdsl\");\n",
    "var result = SDSLParser.Parse(file);\n",
    "if(result.AST is not null)\n",
    "    Console.WriteLine(result.AST);\n",
    "if(result.Errors.Any())\n",
    "    Console.WriteLine(result.Errors[0]);"
   ]
  },
  {
   "cell_type": "code",
   "execution_count": 3,
   "metadata": {
    "dotnet_interactive": {
     "language": "csharp"
    },
    "polyglot_notebook": {
     "kernelName": "csharp"
    },
    "vscode": {
     "languageId": "polyglot-notebook"
    }
   },
   "outputs": [
    {
     "ename": "Error",
     "evalue": "(1,1): error CS0103: The name 'result' does not exist in the current context",
     "output_type": "error",
     "traceback": [
      "(1,1): error CS0103: The name 'result' does not exist in the current context"
     ]
    }
   ],
   "source": [
    "result.AST\n"
   ]
  }
 ],
 "metadata": {
  "kernelspec": {
   "display_name": ".NET (C#)",
   "language": "C#",
   "name": ".net-csharp"
  },
  "language_info": {
   "name": "csharp"
  },
  "polyglot_notebook": {
   "kernelInfo": {
    "defaultKernelName": "csharp",
    "items": [
     {
      "aliases": [],
      "name": "csharp"
     }
    ]
   }
  }
 },
 "nbformat": 4,
 "nbformat_minor": 2
}
